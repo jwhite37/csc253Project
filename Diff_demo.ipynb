{
 "metadata": {
  "name": "",
  "signature": "sha256:b1c02ddfa461acc7f4d637748e22a4c52d618a91a79d8043fcda00dc99e79c1a"
 },
 "nbformat": 3,
 "nbformat_minor": 0,
 "worksheets": [
  {
   "cells": [
    {
     "cell_type": "code",
     "collapsed": false,
     "input": [
      "import graphlab as gl\n",
      "import difflib \n",
      "import helper\n",
      "from IPython.display import HTML"
     ],
     "language": "python",
     "metadata": {},
     "outputs": [],
     "prompt_number": 12
    },
    {
     "cell_type": "code",
     "collapsed": false,
     "input": [
      "cd PyDevAnalysis/src/main/"
     ],
     "language": "python",
     "metadata": {},
     "outputs": [
      {
       "output_type": "stream",
       "stream": "stdout",
       "text": [
        "/home/qiuqiyuan/workspace/csc253Project/PyDevAnalysis/src/main\n"
       ]
      }
     ],
     "prompt_number": 4
    },
    {
     "cell_type": "code",
     "collapsed": false,
     "input": [
      "py2 = gl.load_sframe('session_py2/')"
     ],
     "language": "python",
     "metadata": {},
     "outputs": [],
     "prompt_number": 6
    },
    {
     "cell_type": "code",
     "collapsed": false,
     "input": [
      "py2.column_names()"
     ],
     "language": "python",
     "metadata": {},
     "outputs": [
      {
       "metadata": {},
       "output_type": "pyout",
       "prompt_number": 7,
       "text": [
        "['ip', 'user_script', 'err_msg', 'compile_err', 'of_interest']"
       ]
      }
     ],
     "prompt_number": 7
    },
    {
     "cell_type": "code",
     "collapsed": false,
     "input": [
      "t = py2[py2['of_interest'] == 1]"
     ],
     "language": "python",
     "metadata": {},
     "outputs": [],
     "prompt_number": 8
    },
    {
     "cell_type": "code",
     "collapsed": false,
     "input": [
      "import codediff"
     ],
     "language": "python",
     "metadata": {},
     "outputs": [],
     "prompt_number": 9
    },
    {
     "cell_type": "code",
     "collapsed": false,
     "input": [
      "#pick out those sessions that has 5 records\n",
      "t5 = []\n",
      "for i,e in enumerate(t):\n",
      "    if len(e['user_script']) == 5:\n",
      "        t5.append(t[i])"
     ],
     "language": "python",
     "metadata": {},
     "outputs": [],
     "prompt_number": 14
    },
    {
     "cell_type": "code",
     "collapsed": false,
     "input": [
      "row = t5[21]\n",
      "helper.print_in_order( row['compile_err'] )\n",
      "x = row['user_script'][sorted(row['user_script'].keys())[3]]\n",
      "y = row['user_script'][sorted(row['user_script'].keys())[4]]\n",
      "HTML(codediff.sdiff_lines(x.split('\\n'),y.split('\\n'),None,None, use_context=False, wrap_num=0, context_line=3))"
     ],
     "language": "python",
     "metadata": {},
     "outputs": [
      {
       "output_type": "stream",
       "stream": "stdout",
       "text": [
        "0\n",
        "-------------------------------------------------- \n",
        "\n",
        "0\n",
        "-------------------------------------------------- \n",
        "\n",
        "1\n",
        "-------------------------------------------------- \n",
        "\n",
        "1\n",
        "-------------------------------------------------- \n",
        "\n",
        "0\n",
        "-------------------------------------------------- \n",
        "\n"
       ]
      },
      {
       "html": [
        "\n",
        "<!DOCTYPE html PUBLIC \"-//W3C//DTD XHTML 1.0 Transitional//EN\"\n",
        "          \"http://www.w3.org/TR/xhtml1/DTD/xhtml1-transitional.dtd\">\n",
        "\n",
        "<html>\n",
        "\n",
        "<head>\n",
        "    <meta http-equiv=\"Content-Type\"\n",
        "          content=\"text/html; charset=ISO-8859-1\" />\n",
        "    <title></title>\n",
        "    <style type=\"text/css\">\n",
        "        table.diff {font-family:Courier; border:medium;}\n",
        "        .diff_header {background-color:#e0e0e0}\n",
        "        td.diff_header {text-align:right}\n",
        "        .diff_next {background-color:#c0c0c0}\n",
        "        .diff_add {background-color:#aaffaa}\n",
        "        .diff_chg {background-color:#ffff77}\n",
        "        .diff_sub {background-color:#ffaaaa}\n",
        "        /* customized style */\n",
        "        body { font-family:monospace; font-size: 9pt; }\n",
        "        table.diff {font-family:monospace; border:medium;}\n",
        "    </style>\n",
        "</head>\n",
        "\n",
        "<body>\n",
        "    \n",
        "    <table class=\"diff\" id=\"difflib_chg_to3__top\"\n",
        "           cellspacing=\"0\" cellpadding=\"0\" rules=\"groups\" >\n",
        "        <colgroup></colgroup> <colgroup></colgroup> <colgroup></colgroup>\n",
        "        <colgroup></colgroup> <colgroup></colgroup> <colgroup></colgroup>\n",
        "        \n",
        "        <tbody>\n",
        "            <tr><td class=\"diff_next\"><a href=\"#difflib_chg_to3__0\">f</a></td><td class=\"diff_header\" id=\"from3_1\">1</td><td nowrap=\"nowrap\">def&nbsp;dbl_and_add(a,&nbsp;b):</td><td class=\"diff_next\"><a href=\"#difflib_chg_to3__0\">f</a></td><td class=\"diff_header\" id=\"to3_1\">1</td><td nowrap=\"nowrap\">def&nbsp;dbl_and_add(a,&nbsp;b):</td></tr>\n",
        "            <tr><td class=\"diff_next\" id=\"difflib_chg_to3__0\"></td><td class=\"diff_header\" id=\"from3_2\">2</td><td nowrap=\"nowrap\">&nbsp;&nbsp;&nbsp;&nbsp;dbl_and_add&nbsp;=&nbsp;0</td><td class=\"diff_next\"></td><td class=\"diff_header\" id=\"to3_2\">2</td><td nowrap=\"nowrap\">&nbsp;&nbsp;&nbsp;&nbsp;dbl_and_add&nbsp;=&nbsp;0</td></tr>\n",
        "            <tr><td class=\"diff_next\"></td><td class=\"diff_header\" id=\"from3_3\">3</td><td nowrap=\"nowrap\">&nbsp;&nbsp;&nbsp;&nbsp;for&nbsp;pair&nbsp;in&nbsp;given:</td><td class=\"diff_next\"></td><td class=\"diff_header\" id=\"to3_3\">3</td><td nowrap=\"nowrap\">&nbsp;&nbsp;&nbsp;&nbsp;for&nbsp;pair&nbsp;in&nbsp;given:</td></tr>\n",
        "            <tr><td class=\"diff_next\"></td><td class=\"diff_header\" id=\"from3_4\">4</td><td nowrap=\"nowrap\">&nbsp;&nbsp;&nbsp;&nbsp;&nbsp;&nbsp;&nbsp;&nbsp;(a,&nbsp;b)&nbsp;=&nbsp;pair&nbsp;</td><td class=\"diff_next\"></td><td class=\"diff_header\" id=\"to3_4\">4</td><td nowrap=\"nowrap\">&nbsp;&nbsp;&nbsp;&nbsp;&nbsp;&nbsp;&nbsp;&nbsp;(a,&nbsp;b)&nbsp;=&nbsp;pair&nbsp;</td></tr>\n",
        "            <tr><td class=\"diff_next\"><a href=\"#difflib_chg_to3__top\">t</a></td><td class=\"diff_header\" id=\"from3_5\">5</td><td nowrap=\"nowrap\"><span class=\"diff_sub\">&nbsp;&nbsp;&nbsp;&nbsp;&nbsp;&nbsp;&nbsp;&nbsp;a*2+b&nbsp;=&nbsp;dbl_and_add&nbsp;+&nbsp;a*2+b</span></td><td class=\"diff_next\"><a href=\"#difflib_chg_to3__top\">t</a></td><td class=\"diff_header\" id=\"to3_5\">5</td><td nowrap=\"nowrap\"><span class=\"diff_add\">&nbsp;&nbsp;&nbsp;&nbsp;&nbsp;&nbsp;&nbsp;&nbsp;dbl_and_add&nbsp;=&nbsp;dbl_and_add&nbsp;+&nbsp;a*2+b</span></td></tr>\n",
        "            <tr><td class=\"diff_next\"></td><td class=\"diff_header\" id=\"from3_6\">6</td><td nowrap=\"nowrap\"><span class=\"diff_sub\">&nbsp;&nbsp;&nbsp;&nbsp;return&nbsp;a*2+b</span></td><td class=\"diff_next\"></td><td class=\"diff_header\" id=\"to3_6\">6</td><td nowrap=\"nowrap\"><span class=\"diff_add\">&nbsp;&nbsp;&nbsp;&nbsp;return&nbsp;dbl_and_add</span></td></tr>\n",
        "            <tr><td class=\"diff_next\"></td><td class=\"diff_header\" id=\"from3_7\">7</td><td nowrap=\"nowrap\">&nbsp;&nbsp;&nbsp;&nbsp;print&nbsp;dbl_and_add&nbsp;(2,&nbsp;2,&nbsp;3)</td><td class=\"diff_next\"></td><td class=\"diff_header\" id=\"to3_7\">7</td><td nowrap=\"nowrap\">&nbsp;&nbsp;&nbsp;&nbsp;print&nbsp;dbl_and_add&nbsp;(2,&nbsp;2,&nbsp;3)</td></tr>\n",
        "            <tr><td class=\"diff_next\"></td><td class=\"diff_header\" id=\"from3_8\">8</td><td nowrap=\"nowrap\">&nbsp;&nbsp;&nbsp;&nbsp;print&nbsp;dbl_and_add&nbsp;(\"22\",&nbsp;\"3\")</td><td class=\"diff_next\"></td><td class=\"diff_header\" id=\"to3_8\">8</td><td nowrap=\"nowrap\">&nbsp;&nbsp;&nbsp;&nbsp;print&nbsp;dbl_and_add&nbsp;(\"22\",&nbsp;\"3\")</td></tr>\n",
        "            <tr><td class=\"diff_next\"></td><td class=\"diff_header\" id=\"from3_9\">9</td><td nowrap=\"nowrap\">&nbsp;&nbsp;&nbsp;&nbsp;print&nbsp;dbl_and_add&nbsp;((22,&nbsp;31),&nbsp;(3,&nbsp;7))</td><td class=\"diff_next\"></td><td class=\"diff_header\" id=\"to3_9\">9</td><td nowrap=\"nowrap\">&nbsp;&nbsp;&nbsp;&nbsp;print&nbsp;dbl_and_add&nbsp;((22,&nbsp;31),&nbsp;(3,&nbsp;7))</td></tr>\n",
        "            <tr><td class=\"diff_next\"></td><td class=\"diff_header\" id=\"from3_10\">10</td><td nowrap=\"nowrap\">&nbsp;&nbsp;&nbsp;&nbsp;</td><td class=\"diff_next\"></td><td class=\"diff_header\" id=\"to3_10\">10</td><td nowrap=\"nowrap\">&nbsp;&nbsp;&nbsp;&nbsp;</td></tr>\n",
        "        </tbody>\n",
        "    </table>\n",
        "    <table class=\"diff\" summary=\"Legends\">\n",
        "        <tr> <th colspan=\"2\"> Legends </th> </tr>\n",
        "        <tr> <td> <table border=\"\" summary=\"Colors\">\n",
        "                      <tr><th> Colors </th> </tr>\n",
        "                      <tr><td class=\"diff_add\">&nbsp;Added&nbsp;</td></tr>\n",
        "                      <tr><td class=\"diff_chg\">Changed</td> </tr>\n",
        "                      <tr><td class=\"diff_sub\">Deleted</td> </tr>\n",
        "                  </table></td>\n",
        "             <td> <table border=\"\" summary=\"Links\">\n",
        "                      <tr><th colspan=\"2\"> Links </th> </tr>\n",
        "                      <tr><td>(f)irst change</td> </tr>\n",
        "                      <tr><td>(n)ext change</td> </tr>\n",
        "                      <tr><td>(t)op</td> </tr>\n",
        "                  </table></td> </tr>\n",
        "    </table>\n",
        "</body>\n",
        "\n",
        "</html>"
       ],
       "metadata": {},
       "output_type": "pyout",
       "prompt_number": 17,
       "text": [
        "<IPython.core.display.HTML at 0x7fb891f30950>"
       ]
      }
     ],
     "prompt_number": 17
    },
    {
     "cell_type": "code",
     "collapsed": false,
     "input": [],
     "language": "python",
     "metadata": {},
     "outputs": []
    }
   ],
   "metadata": {}
  }
 ]
}